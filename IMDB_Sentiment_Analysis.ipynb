{
 "cells": [
  {
   "cell_type": "code",
   "execution_count": 12,
   "metadata": {
    "colab": {
     "base_uri": "https://localhost:8080/",
     "height": 1000
    },
    "colab_type": "code",
    "id": "7yNAqcDUQ0hr",
    "outputId": "edda5b84-1c19-499b-d7f5-b022737870f8"
   },
   "outputs": [
    {
     "name": "stdout",
     "output_type": "stream",
     "text": [
      "Collecting tensorflow==2.0.0\n",
      "  Using cached https://files.pythonhosted.org/packages/46/0f/7bd55361168bb32796b360ad15a25de6966c9c1beb58a8e30c01c8279862/tensorflow-2.0.0-cp36-cp36m-manylinux2010_x86_64.whl\n",
      "Requirement already satisfied: termcolor>=1.1.0 in /usr/local/lib/python3.6/dist-packages (from tensorflow==2.0.0) (1.1.0)\n",
      "Requirement already satisfied: wrapt>=1.11.1 in /usr/local/lib/python3.6/dist-packages (from tensorflow==2.0.0) (1.11.2)\n",
      "Requirement already satisfied: wheel>=0.26 in /usr/local/lib/python3.6/dist-packages (from tensorflow==2.0.0) (0.33.6)\n",
      "Requirement already satisfied: gast==0.2.2 in /usr/local/lib/python3.6/dist-packages (from tensorflow==2.0.0) (0.2.2)\n",
      "Requirement already satisfied: keras-preprocessing>=1.0.5 in /usr/local/lib/python3.6/dist-packages (from tensorflow==2.0.0) (1.1.0)\n",
      "Requirement already satisfied: opt-einsum>=2.3.2 in /usr/local/lib/python3.6/dist-packages (from tensorflow==2.0.0) (3.1.0)\n",
      "Requirement already satisfied: astor>=0.6.0 in /usr/local/lib/python3.6/dist-packages (from tensorflow==2.0.0) (0.8.0)\n",
      "Requirement already satisfied: numpy<2.0,>=1.16.0 in /usr/local/lib/python3.6/dist-packages (from tensorflow==2.0.0) (1.17.3)\n",
      "Requirement already satisfied: six>=1.10.0 in /usr/local/lib/python3.6/dist-packages (from tensorflow==2.0.0) (1.12.0)\n",
      "Requirement already satisfied: protobuf>=3.6.1 in /usr/local/lib/python3.6/dist-packages (from tensorflow==2.0.0) (3.10.0)\n",
      "Collecting tensorboard<2.1.0,>=2.0.0\n",
      "  Using cached https://files.pythonhosted.org/packages/d3/9e/a48cd34dd7b672ffc227b566f7d16d63c62c58b542d54efa45848c395dd4/tensorboard-2.0.1-py3-none-any.whl\n",
      "Requirement already satisfied: grpcio>=1.8.6 in /usr/local/lib/python3.6/dist-packages (from tensorflow==2.0.0) (1.15.0)\n",
      "Requirement already satisfied: absl-py>=0.7.0 in /usr/local/lib/python3.6/dist-packages (from tensorflow==2.0.0) (0.8.1)\n",
      "Collecting tensorflow-estimator<2.1.0,>=2.0.0\n",
      "  Using cached https://files.pythonhosted.org/packages/fc/08/8b927337b7019c374719145d1dceba21a8bb909b93b1ad6f8fb7d22c1ca1/tensorflow_estimator-2.0.1-py2.py3-none-any.whl\n",
      "Requirement already satisfied: google-pasta>=0.1.6 in /usr/local/lib/python3.6/dist-packages (from tensorflow==2.0.0) (0.1.7)\n",
      "Requirement already satisfied: keras-applications>=1.0.8 in /usr/local/lib/python3.6/dist-packages (from tensorflow==2.0.0) (1.0.8)\n",
      "Requirement already satisfied: setuptools in /usr/local/lib/python3.6/dist-packages (from protobuf>=3.6.1->tensorflow==2.0.0) (41.4.0)\n",
      "Requirement already satisfied: werkzeug>=0.11.15 in /usr/local/lib/python3.6/dist-packages (from tensorboard<2.1.0,>=2.0.0->tensorflow==2.0.0) (0.16.0)\n",
      "Requirement already satisfied: markdown>=2.6.8 in /usr/local/lib/python3.6/dist-packages (from tensorboard<2.1.0,>=2.0.0->tensorflow==2.0.0) (3.1.1)\n",
      "Requirement already satisfied: google-auth-oauthlib<0.5,>=0.4.1 in /usr/local/lib/python3.6/dist-packages (from tensorboard<2.1.0,>=2.0.0->tensorflow==2.0.0) (0.4.1)\n",
      "Requirement already satisfied: google-auth<2,>=1.6.3 in /usr/local/lib/python3.6/dist-packages (from tensorboard<2.1.0,>=2.0.0->tensorflow==2.0.0) (1.6.3)\n",
      "Requirement already satisfied: h5py in /usr/local/lib/python3.6/dist-packages (from keras-applications>=1.0.8->tensorflow==2.0.0) (2.8.0)\n",
      "Requirement already satisfied: requests-oauthlib>=0.7.0 in /usr/local/lib/python3.6/dist-packages (from google-auth-oauthlib<0.5,>=0.4.1->tensorboard<2.1.0,>=2.0.0->tensorflow==2.0.0) (1.2.0)\n",
      "Requirement already satisfied: pyasn1-modules>=0.2.1 in /usr/local/lib/python3.6/dist-packages (from google-auth<2,>=1.6.3->tensorboard<2.1.0,>=2.0.0->tensorflow==2.0.0) (0.2.7)\n",
      "Requirement already satisfied: cachetools>=2.0.0 in /usr/local/lib/python3.6/dist-packages (from google-auth<2,>=1.6.3->tensorboard<2.1.0,>=2.0.0->tensorflow==2.0.0) (3.1.1)\n",
      "Requirement already satisfied: rsa>=3.1.4 in /usr/local/lib/python3.6/dist-packages (from google-auth<2,>=1.6.3->tensorboard<2.1.0,>=2.0.0->tensorflow==2.0.0) (4.0)\n",
      "Requirement already satisfied: oauthlib>=3.0.0 in /usr/local/lib/python3.6/dist-packages (from requests-oauthlib>=0.7.0->google-auth-oauthlib<0.5,>=0.4.1->tensorboard<2.1.0,>=2.0.0->tensorflow==2.0.0) (3.1.0)\n",
      "Requirement already satisfied: requests>=2.0.0 in /usr/local/lib/python3.6/dist-packages (from requests-oauthlib>=0.7.0->google-auth-oauthlib<0.5,>=0.4.1->tensorboard<2.1.0,>=2.0.0->tensorflow==2.0.0) (2.21.0)\n",
      "Requirement already satisfied: pyasn1<0.5.0,>=0.4.6 in /usr/local/lib/python3.6/dist-packages (from pyasn1-modules>=0.2.1->google-auth<2,>=1.6.3->tensorboard<2.1.0,>=2.0.0->tensorflow==2.0.0) (0.4.7)\n",
      "Requirement already satisfied: certifi>=2017.4.17 in /usr/local/lib/python3.6/dist-packages (from requests>=2.0.0->requests-oauthlib>=0.7.0->google-auth-oauthlib<0.5,>=0.4.1->tensorboard<2.1.0,>=2.0.0->tensorflow==2.0.0) (2019.9.11)\n",
      "Requirement already satisfied: chardet<3.1.0,>=3.0.2 in /usr/local/lib/python3.6/dist-packages (from requests>=2.0.0->requests-oauthlib>=0.7.0->google-auth-oauthlib<0.5,>=0.4.1->tensorboard<2.1.0,>=2.0.0->tensorflow==2.0.0) (3.0.4)\n",
      "Requirement already satisfied: idna<2.9,>=2.5 in /usr/local/lib/python3.6/dist-packages (from requests>=2.0.0->requests-oauthlib>=0.7.0->google-auth-oauthlib<0.5,>=0.4.1->tensorboard<2.1.0,>=2.0.0->tensorflow==2.0.0) (2.8)\n",
      "Requirement already satisfied: urllib3<1.25,>=1.21.1 in /usr/local/lib/python3.6/dist-packages (from requests>=2.0.0->requests-oauthlib>=0.7.0->google-auth-oauthlib<0.5,>=0.4.1->tensorboard<2.1.0,>=2.0.0->tensorflow==2.0.0) (1.24.3)\n",
      "\u001b[31mERROR: tensorboard 2.0.1 has requirement grpcio>=1.24.3, but you'll have grpcio 1.15.0 which is incompatible.\u001b[0m\n",
      "Installing collected packages: tensorboard, tensorflow-estimator, tensorflow\n",
      "  Found existing installation: tensorboard 1.14.0\n",
      "    Uninstalling tensorboard-1.14.0:\n",
      "      Successfully uninstalled tensorboard-1.14.0\n",
      "  Found existing installation: tensorflow-estimator 1.14.0\n",
      "    Uninstalling tensorflow-estimator-1.14.0:\n",
      "      Successfully uninstalled tensorflow-estimator-1.14.0\n",
      "  Found existing installation: tensorflow 1.14.0\n",
      "    Uninstalling tensorflow-1.14.0:\n",
      "      Successfully uninstalled tensorflow-1.14.0\n",
      "Successfully installed tensorboard-2.0.1 tensorflow-2.0.0 tensorflow-estimator-2.0.1\n"
     ]
    },
    {
     "data": {
      "application/vnd.colab-display-data+json": {
       "pip_warning": {
        "packages": [
         "tensorboard",
         "tensorflow",
         "tensorflow_estimator"
        ]
       }
      }
     },
     "metadata": {
      "tags": []
     },
     "output_type": "display_data"
    }
   ],
   "source": [
    "!pip install tensorflow==2.0.0"
   ]
  },
  {
   "cell_type": "code",
   "execution_count": 0,
   "metadata": {
    "colab": {},
    "colab_type": "code",
    "id": "ZYdALQ01Q35a"
   },
   "outputs": [],
   "source": [
    "import numpy as np\n",
    "import tensorflow as tf\n",
    "import tensorflow_datasets as data"
   ]
  },
  {
   "cell_type": "code",
   "execution_count": 0,
   "metadata": {
    "colab": {},
    "colab_type": "code",
    "id": "JTTfTng1W9BF"
   },
   "outputs": [],
   "source": [
    "from tensorflow.keras.models import Sequential\n",
    "from tensorflow.keras.layers import Bidirectional, Dense, Embedding, Flatten , LSTM"
   ]
  },
  {
   "cell_type": "code",
   "execution_count": 0,
   "metadata": {
    "colab": {},
    "colab_type": "code",
    "id": "rcXm3XOSRIM0"
   },
   "outputs": [],
   "source": [
    "EPOCHS = 10\n",
    "\n",
    "batch_size = 64\n",
    "embedding_size = 64\n",
    "lstm_nn = 64\n",
    "h1 = 64"
   ]
  },
  {
   "cell_type": "code",
   "execution_count": 1,
   "metadata": {
    "colab": {},
    "colab_type": "code",
    "id": "Uh_MyGNlSJFr"
   },
   "outputs": [
    {
     "ename": "NameError",
     "evalue": "name 'data' is not defined",
     "output_type": "error",
     "traceback": [
      "\u001b[1;31m---------------------------------------------------------------------------\u001b[0m",
      "\u001b[1;31mNameError\u001b[0m                                 Traceback (most recent call last)",
      "\u001b[1;32m<ipython-input-1-999883c01867>\u001b[0m in \u001b[0;36m<module>\u001b[1;34m\u001b[0m\n\u001b[1;32m----> 1\u001b[1;33m \u001b[0mData\u001b[0m\u001b[1;33m,\u001b[0m \u001b[0minfo\u001b[0m \u001b[1;33m=\u001b[0m \u001b[0mdata\u001b[0m\u001b[1;33m.\u001b[0m\u001b[0mload\u001b[0m\u001b[1;33m(\u001b[0m\u001b[1;34m'imdb_reviews/subwords32k'\u001b[0m\u001b[1;33m,\u001b[0m \u001b[0mwith_info\u001b[0m\u001b[1;33m=\u001b[0m\u001b[1;32mTrue\u001b[0m\u001b[1;33m,\u001b[0m \u001b[0mas_supervised\u001b[0m\u001b[1;33m=\u001b[0m\u001b[1;32mTrue\u001b[0m\u001b[1;33m)\u001b[0m\u001b[1;33m\u001b[0m\u001b[1;33m\u001b[0m\u001b[0m\n\u001b[0m\u001b[0;32m      2\u001b[0m \u001b[1;31m#info i.e. features and labels are stored in dictionary\u001b[0m\u001b[1;33m\u001b[0m\u001b[1;33m\u001b[0m\u001b[1;33m\u001b[0m\u001b[0m\n\u001b[0;32m      3\u001b[0m \u001b[1;31m# use as_supervised=True to convert the dictionary to a tuple\u001b[0m\u001b[1;33m\u001b[0m\u001b[1;33m\u001b[0m\u001b[1;33m\u001b[0m\u001b[0m\n",
      "\u001b[1;31mNameError\u001b[0m: name 'data' is not defined"
     ]
    }
   ],
   "source": [
    "Data, info = data.load('imdb_reviews/subwords32k', with_info=True, as_supervised=True)\n",
    "#info i.e. features and labels are stored in dictionary\n",
    "# use as_supervised=True to convert the dictionary to a tuple"
   ]
  },
  {
   "cell_type": "code",
   "execution_count": 0,
   "metadata": {
    "colab": {},
    "colab_type": "code",
    "id": "ianQ26cbSWOS"
   },
   "outputs": [],
   "source": [
    "train , test = Data[\"train\"], Data[\"test\"]"
   ]
  },
  {
   "cell_type": "code",
   "execution_count": 0,
   "metadata": {
    "colab": {},
    "colab_type": "code",
    "id": "D-sg0B5JSeU3"
   },
   "outputs": [],
   "source": [
    "tokenizer = info.features[\"text\"].encoder"
   ]
  },
  {
   "cell_type": "code",
   "execution_count": 0,
   "metadata": {
    "colab": {},
    "colab_type": "code",
    "id": "L4wdeCdiSkoi"
   },
   "outputs": [],
   "source": [
    "train = train.shuffle(1000).padded_batch(batch_size, train.output_shapes)\n",
    "test = test.padded_batch(batch_size, test.output_shapes)"
   ]
  },
  {
   "cell_type": "code",
   "execution_count": 0,
   "metadata": {
    "colab": {},
    "colab_type": "code",
    "id": "ynU7mEryS6QA"
   },
   "outputs": [],
   "source": [
    "model = Sequential()\n",
    "model.add(Embedding(tokenizer.vocab_size,embedding_size))\n",
    "model.add(Bidirectional(LSTM(lstm_nn)))\n",
    "model.add(Dense(h1, activation =\"relu\"))\n",
    "model.add(Dense(1))\n",
    "\n",
    "loss_func = tf.keras.losses.BinaryCrossentropy(from_logits=True)\n",
    "optimizer = tf.keras.optimizers.Adam()"
   ]
  },
  {
   "cell_type": "code",
   "execution_count": 0,
   "metadata": {
    "colab": {
     "base_uri": "https://localhost:8080/",
     "height": 564
    },
    "colab_type": "code",
    "id": "GTsarUZvS-OS",
    "outputId": "ba3c8706-d155-4e57-9283-9086efa9bec2"
   },
   "outputs": [
    {
     "name": "stdout",
     "output_type": "stream",
     "text": [
      "\n",
      " Epoch : 0 Batch: 0\n",
      "Loss : 0.695\n",
      "Accuracy: 0.453125\n",
      "\n",
      "\n",
      "I first saw this film on hbo around 1983 and I loved it! I scoured all of the auction web sites to buy the vhs copy. This is a very good suspense movie with a few twists that make it more interesting. I don't want to say too much else because if you ever get a chance to see it, you'll be glad I didn't say too much!\n",
      "Label ✓\n",
      "Pred ✕\n",
      "\n",
      "\n",
      "This is a good episode, but it's not my favorite. A lot of people love it and on a creative level it's brilliant. Most of the episode has no dialog, which is such a cool idea and \"Hush\" handles the silence really well. Plus, this episode introduces Tara, who I like a lot. But, I don't like Riely or the Initative or Maggie Walsh and they seem to get a lot of screen time in \"Hush.\" Plus, I don't think the Gentlemen are that scary and I get tired of watching the float around Sunnydale. I know that I'm in the minority, but I tend to fast-forward parts of \"Hush.\" Of course, there are other parts of the episode that I think are great, so if you're watching on DVD, I recommend seeing this episode. It really is a classic.<br /><br />\"Hush\" revolves around the entire town losing their voices. Skelatal looking demon-guys called the Gentlemen arrive to gather seven hearts from human victims, but if they hear a human scream they die. So they steal the voices of everyone in town. Buffy and the Scoobies try to figure out what's going on, while the Initative also start investigating. Meanwhile, Xander comes to realize how much Anya means to him and Willow meets a fellow witch named Tara. Buffy and Riely finally come face to face while fighting the Gentlemen. They are both stunned about what they learn... He's a commando and she's the Slayer. In the end Buffy saves the day, but she now has to deal with her new knowledge of Riely's secret life.<br /><br />Really, the creativity of \"Hush\" can't be seen in a basic outline of its plot. It's the overwhelming silence of the episode, that makes it so great. The characters try to communicate in different ways, (White-out boards, pantomime, obscene finger gestures, etc...) and it all just works really well. After a while you forget that there's no dialog because they're all so good at expressing themselves. During the \"talking\" parts of the episode, there are a lot of references to the importance of really \"hearing\" each other. Anya claims that Xander won't really talk to her. Giles ignores Spike and Xander's protests and insists that Spike move into Xander's apartment. Buffy quickly substitutes the word \"petroleum\" for \"patrolling\" when she talks to Riely so she won't have to explain her calling. And then at the end, when Buffy and Riely really do learn the truth about each other, they sit there with nothing to say. It's all pretty cool.<br /><br />There are a lot of good parts to this episode. I love that people keep forgetting that they can't talk. Buffy and Xander both try to use the phone. Riley can't use the voice recognition thing in the Initatives' elevator. People try to scream. It's basically what everyone would really do if they suddenly had no speech. And I think it's hilarious that Spike has to move in with Xander. (They'll also share an apartment for a little while in season seven.) Xander and Spike have a fun bickering childishness that's just hilarious. Also I like the beginning of Tara and Willow's relationship. Tara plays an important role for the rest of the show and she and Willow are pretty cute together. It's nice to see them just starting out.<br /><br />On the downside, I don't understand how the Gentlemen are choosing their victims. They just seem to float around dorms and pick random people. Also, I don't like Riely. I've never liked him, but from \"Hush\" on I'm pretty much just waiting for Angel to come back to town and beat him up. Finally, what happens to Olivia after this? It seems like we just met her, she and Giles have a relationship, everything's going fine... and then she's suddenly dropped. I don't get it.<br /><br />My favorite part of the episode: Giles' \"Who are the Gentlemen?\" lecture to the Scoobies. The whole scene is wonderful and his over-heads are just hilarious. He makes some similar looking flashcards in season seven's \"First Date.\" Pretty much anytime Giles starts drawing monsters, it's just gonna be fun.\n",
      "Label ✓\n",
      "Pred ✕\n",
      "\n",
      "\n",
      "A classic 80's movie that Disney for some reason stopped making. I watched this movie everyday when I was in like 6th grade. I found a copy myself after scouring video stores. Well worth it though. One of my all time favs\n",
      "Label ✓\n",
      "Pred ✕\n",
      "\n",
      "\n",
      "From the start you will like Sam Elliott's character (Falon) : a trustworthy cop that is notably loyal to his partner. But too loyal, and too revengeful when seeing his partner dead in an alley, cause he then kills who he thought to be the assailant before giving him a chance to explain. Falon is an alcoholic, and that tends to sway him from being in self control, though he manages to direct his attention towards finding who's really behind his partners death. He carries along a rookie as his new partner (which seems to be seen too often in films) but Esai Morales does well in accompanying Sam Elliot, though puzzling pieces begin to fit to where Morales begins a self-approved investigation towards Falon; he mainly wants to find the answers since Fallon isn't letting him in on the whole story, and does not like what he finds. There is not a last minute showing at who the bad detectives are, which is okay; and they are not able to sway Falon into joining them, leading to a dramatic ending. Fine acting all the way around, with a touch of humor from Paul Sorvino who is the captain of detectives. It's a good movie that will make you want to see it several times; so it qualifies as a -must see-, and a good addition to a movie collection! (Filmed in San Francisco)\n",
      "Label ✓\n",
      "Pred ✕\n",
      "\n",
      "\n",
      "This is one of the finest TV movies you could ever see. The acting, writing and production values are top-notch. The performances are passionate with Beverly D'Angelo superb as the older woman with a teenage daughter and Rob Estes simply perfect as the young stud boyfriend. However, the best part of this film was how it showed the consequences of sexual abuse instead of going for the usual happy ending. It showed that abuse can happen in good families; involve good people; and wreck lives. It is thought provoking and entertaining. Congratulations to all concerned with this exceptional movie.<br /><br />\n",
      "Label ✓\n",
      "Pred ✕\n"
     ]
    }
   ],
   "source": [
    "for epoch in range(EPOCHS):\n",
    "  accuracy = []\n",
    "  for batch, (text, label) in enumerate(train.take(-1)):\n",
    "    with tf.GradientTape() as tape:\n",
    "      logits = model(text)\n",
    "      label = tf.expand_dims(label,1)\n",
    "      loss =  loss_func(label, logits)\n",
    "\n",
    "      gradients = tape.gradient(loss, model.trainable_variables)\n",
    "      grads_and_vars = zip(gradients, model.trainable_variables)\n",
    "      optimizer.apply_gradients(grads_and_vars)\n",
    "      predictions = tf.cast(tf.math.greater(tf.sigmoid(logits), 0.5), tf.int64)\n",
    "      accuracy.extend(tf.cast(tf.equal(predictions, label), tf.int64).numpy())\n",
    "\n",
    "      if batch % 100 == 0:\n",
    "            print('\\n Epoch : {} Batch: {}'.format(epoch, batch))\n",
    "            print('Loss : {:.3f}'.format(loss.numpy()))\n",
    "            print('Accuracy: {}'.format(np.mean(accuracy)))\n",
    "      \n",
    "            for _, (text, label) in enumerate(test.take(1)):\n",
    "                logits = model(text)\n",
    "        \n",
    "                random_id = np.random.choice(label.shape[0], 5)\n",
    "                for ix in random_id:\n",
    "                    print('\\n')\n",
    "                    print(tokenizer.decode(text.numpy()[ix]))\n",
    "                    print('Label', u'\\u2713' if label.numpy()[ix] == 1 else u'\\u2715')\n",
    "                    print('Pred', u'\\u2713' if logits.numpy()[ix][0] >= 0.5 else u'\\u2715')"
   ]
  },
  {
   "cell_type": "code",
   "execution_count": 0,
   "metadata": {
    "colab": {},
    "colab_type": "code",
    "id": "GbIzSIqKTAbM"
   },
   "outputs": [],
   "source": [
    "test_text_1 = \" Mostly the film is an allegory about holding onto a sense of personal worth, despite everything. If the film is perhaps a little slow in its middle passages, maybe that is part of the idea, too, to give us a sense of the leaden passage of time, before the glory of the final redemption.\"\n",
    "test_text_1 = tokenizer.encode(test_text_1)\n",
    "\n",
    "pred = model(tf.convert_to_tensor([test_text_1]))\n",
    "print(u'\\u2713' if pred.numpy()[0, 0] >= 0.5 else u'\\u2715')\n",
    "\n",
    "test_text_2 = \"Valentine's Day' is being marketed as a Date Movie. I think it's more of a First-Date Movie. If your date likes it, do not date that person again. And if you like it, there may not be a second date.\"\n",
    "test_text_2 = tokenizer.encode(test_text_2)\n",
    "\n",
    "pred = model(tf.convert_to_tensor([test_text_2]))\n",
    "print(u'\\u2713' if pred.numpy()[0, 0] >= 0.5 else u'\\u2715')"
   ]
  },
  {
   "cell_type": "code",
   "execution_count": 0,
   "metadata": {
    "colab": {},
    "colab_type": "code",
    "id": "_3OSbfF0YEiK"
   },
   "outputs": [],
   "source": []
  }
 ],
 "metadata": {
  "colab": {
   "collapsed_sections": [],
   "name": "IMDB_Sentiment_Analysis.ipynb",
   "provenance": []
  },
  "kernelspec": {
   "display_name": "Python 3",
   "language": "python",
   "name": "python3"
  },
  "language_info": {
   "codemirror_mode": {
    "name": "ipython",
    "version": 3
   },
   "file_extension": ".py",
   "mimetype": "text/x-python",
   "name": "python",
   "nbconvert_exporter": "python",
   "pygments_lexer": "ipython3",
   "version": "3.7.3"
  }
 },
 "nbformat": 4,
 "nbformat_minor": 1
}
